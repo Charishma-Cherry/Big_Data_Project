{
 "cells": [
  {
   "cell_type": "markdown",
   "id": "232847d3-b9e4-4c71-b3d6-ab254e7bd0de",
   "metadata": {},
   "source": [
    "RANDOM FOREST REGRESSOR MODEL"
   ]
  },
  {
   "cell_type": "code",
   "execution_count": 4,
   "id": "395a4fef-e000-4e85-80bd-06ba601d0601",
   "metadata": {},
   "outputs": [
    {
     "name": "stdout",
     "output_type": "stream",
     "text": [
      "\n",
      "Model Evaluation:\n",
      "  RMSE: 0.8660\n",
      "  R² Score: 0.8242\n",
      "\n",
      "Feature Importances:\n",
      "     Feature  Importance\n",
      "5      Month    0.234959\n",
      "1       TMAX    0.197796\n",
      "8  is_winter    0.183304\n",
      "0       TAVG    0.130909\n",
      "3       PRCP    0.097260\n",
      "2       TMIN    0.070599\n",
      "7  is_summer    0.054563\n",
      "6        Day    0.028640\n",
      "4       SNOW    0.001970\n"
     ]
    },
    {
     "name": "stderr",
     "output_type": "stream",
     "text": [
      "/Library/Frameworks/Python.framework/Versions/3.13/lib/python3.13/site-packages/sklearn/metrics/_regression.py:492: FutureWarning: 'squared' is deprecated in version 1.4 and will be removed in 1.6. To calculate the root mean squared error, use the function'root_mean_squared_error'.\n",
      "  warnings.warn(\n"
     ]
    },
    {
     "data": {
      "image/png": "[encoded data removed]",
      "text/plain": [
       "<Figure size 1000x600 with 1 Axes>"
      ]
     },
     "metadata": {},
     "output_type": "display_data"
    }
   ],
   "source": [
    "import pandas as pd\n",
    "import numpy as np\n",
    "from sklearn.model_selection import train_test_split\n",
    "from sklearn.ensemble import RandomForestRegressor\n",
    "from sklearn.metrics import mean_squared_error, r2_score\n",
    "import matplotlib.pyplot as plt\n",
    "\n",
    "# Load and Clean the Dataset\n",
    "file_path = r'/Users/sushma/Documents/BigData/bd_project/Big_Data_Project/kafka_project/data/merged_cleaned_data.csv'\n",
    "\n",
    "data = pd.read_csv(file_path)\n",
    "data.replace(-999, pd.NA, inplace=True)\n",
    "data_cleaned = data.dropna().copy()  \n",
    "\n",
    "# Feature Engineering\n",
    "data_cleaned['DATE'] = pd.to_datetime(data_cleaned['DATE'])  # Convert 'DATE' column to datetime\n",
    "data_cleaned['Month'] = data_cleaned['DATE'].dt.month       # Extract month\n",
    "data_cleaned['Day'] = data_cleaned['DATE'].dt.day           # Extract day\n",
    "data_cleaned['is_summer'] = data_cleaned['Month'].apply(lambda x: 1 if x in [6, 7, 8] else 0)\n",
    "data_cleaned['is_winter'] = data_cleaned['Month'].apply(lambda x: 1 if x in [12, 1, 2] else 0)\n",
    "\n",
    "# Define Features and Target\n",
    "features = ['TAVG', 'TMAX', 'TMIN', 'PRCP', 'SNOW', 'Month', 'Day', 'is_summer', 'is_winter']\n",
    "target = 'ALLSKY_SFC_SW_DWN'\n",
    "\n",
    "X = data_cleaned[features]\n",
    "y = data_cleaned[target]\n",
    "\n",
    "#  Train-Test Split\n",
    "X_train, X_test, y_train, y_test = train_test_split(X, y, test_size=0.2, random_state=42)\n",
    "\n",
    "# Train the Random Forest Model\n",
    "rf_model = RandomForestRegressor(\n",
    "    n_estimators=500,\n",
    "    max_depth=20,\n",
    "    max_features='sqrt',\n",
    "    min_samples_split=10,\n",
    "    min_samples_leaf=2,\n",
    "    random_state=100\n",
    ")\n",
    "rf_model.fit(X_train, y_train)\n",
    "\n",
    "# Predictions and Evaluation\n",
    "y_test_pred = rf_model.predict(X_test)\n",
    "test_rmse = mean_squared_error(y_test, y_test_pred, squared=False)\n",
    "test_r2 = r2_score(y_test, y_test_pred)\n",
    "\n",
    "print(\"\\nModel Evaluation:\")\n",
    "print(f\"  RMSE: {test_rmse:.4f}\")\n",
    "print(f\"  R² Score: {test_r2:.4f}\")\n",
    "\n",
    "# Feature Importance\n",
    "feature_importances = pd.DataFrame({\n",
    "    'Feature': features,\n",
    "    'Importance': rf_model.feature_importances_\n",
    "}).sort_values(by='Importance', ascending=False)\n",
    "\n",
    "print(\"\\nFeature Importances:\")\n",
    "print(feature_importances)\n",
    "\n",
    "plt.figure(figsize=(10, 6))\n",
    "plt.barh(feature_importances['Feature'], feature_importances['Importance'], color='skyblue')\n",
    "plt.title('Feature Importances')\n",
    "plt.xlabel('Importance')\n",
    "plt.ylabel('Feature')\n",
    "plt.gca().invert_yaxis()\n",
    "plt.show()\n"
   ]
  },
  {
   "cell_type": "markdown",
   "id": "52397655-bb88-4a19-b762-0d2c873df872",
   "metadata": {},
   "source": [
    "PREDICTING SOLAR RADIATION AND ENERGY GENERATED BY TAKING USER INPUTS"
   ]
  },
  {
   "cell_type": "code",
   "execution_count": 6,
   "id": "29b71f39-c068-445e-ad36-41015adb9667",
   "metadata": {},
   "outputs": [
    {
     "name": "stdout",
     "output_type": "stream",
     "text": [
      "Enter the following features:\n"
     ]
    },
    {
     "name": "stdin",
     "output_type": "stream",
     "text": [
      "TAVG:  25\n",
      "TMAX:  30\n",
      "TMIN:  20\n",
      "PRCP:  0\n",
      "SNOW:  0\n",
      "Month:  7\n",
      "Day:  4\n",
      "\n",
      "Enter the solar panel efficiency (e.g., 0.18 for 18%):  0.16\n"
     ]
    },
    {
     "name": "stdout",
     "output_type": "stream",
     "text": [
      "\n",
      "Predicted Solar Radiation (ALLSKY_SFC_SW_DWN) : 6.71 kWh/m²/day\n",
      "Predicted Solar Energy Output: 1074128.41 kWh/day\n"
     ]
    },
    {
     "data": {
      "text/plain": [
       "(np.float64(6.713302535692306), np.float64(1074128.4057107691))"
      ]
     },
     "execution_count": 6,
     "metadata": {},
     "output_type": "execute_result"
    }
   ],
   "source": [
    "def predict_solar_energy_with_location(model, data):\n",
    "\n",
    "    # # Get unique cities from the dataset\n",
    "    # cities = data['CITY_x'].unique()\n",
    "\n",
    "    # Define the input features\n",
    "    feature_names = ['TAVG', 'TMAX', 'TMIN', 'PRCP', 'SNOW', 'Month', 'Day', 'is_summer', 'is_winter']\n",
    "    \n",
    "    print(\"Enter the following features:\")\n",
    "    input_features = []\n",
    "\n",
    "    # Loop through other features\n",
    "    for feature in feature_names[:-2]:  \n",
    "        value = float(input(f\"{feature}: \"))\n",
    "        input_features.append(value)\n",
    "\n",
    "    # Add seasonal flags based on the input month\n",
    "    month = int(input_features[5])  \n",
    "    is_summer = 1 if month in [6, 7, 8] else 0\n",
    "    is_winter = 1 if month in [12, 1, 2] else 0\n",
    "\n",
    "    # Append seasonal flags to the feature set\n",
    "    input_features.append(is_summer)\n",
    "    input_features.append(is_winter)\n",
    "\n",
    "    # Add solar panel efficiency\n",
    "    efficiency = float(input(\"\\nEnter the solar panel efficiency (e.g., 0.18 for 18%): \"))\n",
    "    \n",
    "    # Create a DataFrame for prediction\n",
    "    input_df = pd.DataFrame([input_features], columns=feature_names)\n",
    "    \n",
    "    # Predict solar radiation\n",
    "    predicted_radiation = model.predict(input_df)[0]\n",
    "    \n",
    "    # Calculate energy output\n",
    "    area_sq_km = 1  # Assume 1 square kilometer\n",
    "    area_sq_m = area_sq_km * 1e6  # Convert to square meters\n",
    "    solar_energy = predicted_radiation * area_sq_m * efficiency\n",
    "\n",
    "    # Display results\n",
    "    print(f\"\\nPredicted Solar Radiation (ALLSKY_SFC_SW_DWN) : {predicted_radiation:.2f} kWh/m²/day\")\n",
    "    print(f\"Predicted Solar Energy Output: {solar_energy:.2f} kWh/day\")\n",
    "\n",
    "    return predicted_radiation, solar_energy\n",
    "\n",
    "\n",
    "\n",
    "#  Prediction Function\n",
    "predict_solar_energy_with_location(rf_model, data_cleaned)\n"
   ]
  },
  {
   "cell_type": "markdown",
   "id": "9d6c9630-80c4-4a44-83fb-332df3fe7a10",
   "metadata": {},
   "source": [
    "MACHINE UNLEARNING (REMOVING BAKERSFEILD DATA)"
   ]
  },
  {
   "cell_type": "code",
   "execution_count": 9,
   "id": "b7cfa287-77f5-4632-923f-298c140fa810",
   "metadata": {},
   "outputs": [
    {
     "name": "stderr",
     "output_type": "stream",
     "text": [
      "/Library/Frameworks/Python.framework/Versions/3.13/lib/python3.13/site-packages/sklearn/metrics/_regression.py:492: FutureWarning: 'squared' is deprecated in version 1.4 and will be removed in 1.6. To calculate the root mean squared error, use the function'root_mean_squared_error'.\n",
      "  warnings.warn(\n"
     ]
    },
    {
     "name": "stdout",
     "output_type": "stream",
     "text": [
      "\n",
      "Updated Model Evaluation After Unlearning Bakersfield Data:\n",
      "  RMSE: 0.9047\n",
      "  R² Score: 0.8018\n",
      "Enter the following features:\n"
     ]
    },
    {
     "name": "stdin",
     "output_type": "stream",
     "text": [
      "TAVG:  25\n",
      "TMAX:  30\n",
      "TMIN:  20\n",
      "PRCP:  0\n",
      "SNOW:  0\n",
      "Month:  7\n",
      "Day:  4\n",
      "\n",
      "Enter the solar panel efficiency (e.g., 0.18 for 18%):  0.16\n"
     ]
    },
    {
     "name": "stdout",
     "output_type": "stream",
     "text": [
      "\n",
      "Predicted Solar Radiation (ALLSKY_SFC_SW_DWN): 6.63 kWh/m²/day\n",
      "Predicted Solar Energy Output: 1061084.67 kWh/day\n"
     ]
    },
    {
     "data": {
      "text/plain": [
       "(np.float64(6.6317792046667075), np.float64(1061084.6727466732))"
      ]
     },
     "execution_count": 9,
     "metadata": {},
     "output_type": "execute_result"
    }
   ],
   "source": [
    "# Machine Unlearning - Remove Rows Related to Bakersfield\n",
    "rows_to_remove = data_cleaned[data_cleaned['CITY_x'] == 'Bakersfield']\n",
    "data_unlearned = data_cleaned.drop(rows_to_remove.index)\n",
    "\n",
    "# Define Features and Target for the Updated Dataset\n",
    "X_unlearned = data_unlearned[features]\n",
    "y_unlearned = data_unlearned[target]\n",
    "\n",
    "# Train-Test Split After Unlearning\n",
    "X_train_unlearned, X_test_unlearned, y_train_unlearned, y_test_unlearned = train_test_split(\n",
    "    X_unlearned, y_unlearned, test_size=0.2, random_state=42\n",
    ")\n",
    "\n",
    "# Retrain the Model with the Updated Data\n",
    "rf_model_unlearned = RandomForestRegressor(\n",
    "    n_estimators=500,\n",
    "    max_depth=20,\n",
    "    max_features='sqrt',\n",
    "    min_samples_split=10,\n",
    "    min_samples_leaf=2,\n",
    "    random_state=100\n",
    ")\n",
    "rf_model_unlearned.fit(X_train_unlearned, y_train_unlearned)\n",
    "\n",
    "# Evaluate the Updated Model\n",
    "y_test_pred_unlearned = rf_model_unlearned.predict(X_test_unlearned)\n",
    "test_rmse_unlearned = mean_squared_error(y_test_unlearned, y_test_pred_unlearned, squared=False)\n",
    "test_r2_unlearned = r2_score(y_test_unlearned, y_test_pred_unlearned)\n",
    "\n",
    "print(\"\\nUpdated Model Evaluation After Unlearning Bakersfield Data:\")\n",
    "print(f\"  RMSE: {test_rmse_unlearned:.4f}\")\n",
    "print(f\"  R² Score: {test_r2_unlearned:.4f}\")\n",
    "\n",
    "# Prediction Function with Updated Model\n",
    "def predict_solar_energy_with_location(model, data):\n",
    "\n",
    "    # Define the input features\n",
    "    feature_names = ['TAVG', 'TMAX', 'TMIN', 'PRCP', 'SNOW', 'Month', 'Day', 'is_summer', 'is_winter']\n",
    "    \n",
    "    print(\"Enter the following features:\")\n",
    "    input_features = []\n",
    "\n",
    "    # Loop through other features\n",
    "    for feature in feature_names[:-2]:  \n",
    "        value = float(input(f\"{feature}: \"))\n",
    "        input_features.append(value)\n",
    "\n",
    "    # Add seasonal flags based on the input month\n",
    "    month = int(input_features[5])  \n",
    "    is_summer = 1 if month in [6, 7, 8] else 0\n",
    "    is_winter = 1 if month in [12, 1, 2] else 0\n",
    "\n",
    "    # Append seasonal flags to the feature set\n",
    "    input_features.append(is_summer)\n",
    "    input_features.append(is_winter)\n",
    "\n",
    "    # Add solar panel efficiency\n",
    "    efficiency = float(input(\"\\nEnter the solar panel efficiency (e.g., 0.18 for 18%): \"))\n",
    "    \n",
    "    # Create a DataFrame for prediction\n",
    "    input_df = pd.DataFrame([input_features], columns=feature_names)\n",
    "    \n",
    "    # Predict solar radiation\n",
    "    predicted_radiation = model.predict(input_df)[0]\n",
    "    \n",
    "    # Calculate energy output\n",
    "    area_sq_km = 1  # Assume 1 square kilometer\n",
    "    area_sq_m = area_sq_km * 1e6  # Convert to square meters\n",
    "    solar_energy = predicted_radiation * area_sq_m * efficiency\n",
    "\n",
    "    # Display results\n",
    "    print(f\"\\nPredicted Solar Radiation (ALLSKY_SFC_SW_DWN): {predicted_radiation:.2f} kWh/m²/day\")\n",
    "    print(f\"Predicted Solar Energy Output: {solar_energy:.2f} kWh/day\")\n",
    "\n",
    "    return predicted_radiation, solar_energy\n",
    "\n",
    "# Manual Predictions After Unlearning\n",
    "predict_solar_energy_with_location(rf_model_unlearned, data_unlearned)\n"
   ]
  },
  {
   "cell_type": "code",
   "execution_count": null,
   "id": "fdd80d76-782b-4a13-87f9-99196e183897",
   "metadata": {},
   "outputs": [],
   "source": []
  }
 ],
 "metadata": {
  "kernelspec": {
   "display_name": "Python 3 (ipykernel)",
   "language": "python",
   "name": "python3"
  },
  "language_info": {
   "codemirror_mode": {
    "name": "ipython",
    "version": 3
   },
   "file_extension": ".py",
   "mimetype": "text/x-python",
   "name": "python",
   "nbconvert_exporter": "python",
   "pygments_lexer": "ipython3",
   "version": "3.13.0"
  }
 },
 "nbformat": 4,
 "nbformat_minor": 5
}
